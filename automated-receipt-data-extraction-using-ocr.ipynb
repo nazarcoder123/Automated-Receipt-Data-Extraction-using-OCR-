{
 "cells": [
  {
   "cell_type": "markdown",
   "id": "5754b765",
   "metadata": {
    "id": "iqVTUWppEjRZ",
    "papermill": {
     "duration": 0.006678,
     "end_time": "2023-08-13T13:44:28.546416",
     "exception": false,
     "start_time": "2023-08-13T13:44:28.539738",
     "status": "completed"
    },
    "tags": []
   },
   "source": [
    "## Import necessary libraries (json, pickle, requests)."
   ]
  },
  {
   "cell_type": "code",
   "execution_count": 1,
   "id": "40ddc561",
   "metadata": {
    "execution": {
     "iopub.execute_input": "2023-08-13T13:44:28.561114Z",
     "iopub.status.busy": "2023-08-13T13:44:28.560580Z",
     "iopub.status.idle": "2023-08-13T13:44:28.572219Z",
     "shell.execute_reply": "2023-08-13T13:44:28.570934Z"
    },
    "id": "5CNMafpo-XIS",
    "papermill": {
     "duration": 0.022145,
     "end_time": "2023-08-13T13:44:28.574845",
     "exception": false,
     "start_time": "2023-08-13T13:44:28.552700",
     "status": "completed"
    },
    "tags": []
   },
   "outputs": [],
   "source": [
    "import json\n",
    "import pickle\n",
    "import requests"
   ]
  },
  {
   "cell_type": "markdown",
   "id": "1a8f36a2",
   "metadata": {
    "id": "Z-hjMCUSEleK",
    "papermill": {
     "duration": 0.005543,
     "end_time": "2023-08-13T13:44:28.586382",
     "exception": false,
     "start_time": "2023-08-13T13:44:28.580839",
     "status": "completed"
    },
    "tags": []
   },
   "source": [
    "## Define the API URL for the OCR service."
   ]
  },
  {
   "cell_type": "code",
   "execution_count": 2,
   "id": "66ba163f",
   "metadata": {
    "execution": {
     "iopub.execute_input": "2023-08-13T13:44:28.599968Z",
     "iopub.status.busy": "2023-08-13T13:44:28.599199Z",
     "iopub.status.idle": "2023-08-13T13:44:28.604860Z",
     "shell.execute_reply": "2023-08-13T13:44:28.603729Z"
    },
    "id": "whul_WP--wc2",
    "papermill": {
     "duration": 0.015219,
     "end_time": "2023-08-13T13:44:28.607314",
     "exception": false,
     "start_time": "2023-08-13T13:44:28.592095",
     "status": "completed"
    },
    "tags": []
   },
   "outputs": [],
   "source": [
    "url = \"https://ocr.asprise.com/api/v1/receipt\""
   ]
  },
  {
   "cell_type": "markdown",
   "id": "7d60da79",
   "metadata": {
    "id": "vhSseRL9EphK",
    "papermill": {
     "duration": 0.005548,
     "end_time": "2023-08-13T13:44:28.618931",
     "exception": false,
     "start_time": "2023-08-13T13:44:28.613383",
     "status": "completed"
    },
    "tags": []
   },
   "source": [
    "## Set the image file path"
   ]
  },
  {
   "cell_type": "code",
   "execution_count": 3,
   "id": "fa9375f4",
   "metadata": {
    "execution": {
     "iopub.execute_input": "2023-08-13T13:44:28.632602Z",
     "iopub.status.busy": "2023-08-13T13:44:28.632155Z",
     "iopub.status.idle": "2023-08-13T13:44:28.637868Z",
     "shell.execute_reply": "2023-08-13T13:44:28.636576Z"
    },
    "id": "4RWhtC5D-2Vp",
    "papermill": {
     "duration": 0.015301,
     "end_time": "2023-08-13T13:44:28.640217",
     "exception": false,
     "start_time": "2023-08-13T13:44:28.624916",
     "status": "completed"
    },
    "tags": []
   },
   "outputs": [],
   "source": [
    "image = \"/kaggle/input/okay-tools-pvt-ltd/Okay Tools Pvt. Ltd-1.jpg\""
   ]
  },
  {
   "cell_type": "markdown",
   "id": "3e17ca74",
   "metadata": {
    "id": "tze9gUqJEtIU",
    "papermill": {
     "duration": 0.005382,
     "end_time": "2023-08-13T13:44:28.651415",
     "exception": false,
     "start_time": "2023-08-13T13:44:28.646033",
     "status": "completed"
    },
    "tags": []
   },
   "source": [
    "## Make an API request to the OCR service and save the response in a JSON file."
   ]
  },
  {
   "cell_type": "code",
   "execution_count": 4,
   "id": "9e3d3530",
   "metadata": {
    "execution": {
     "iopub.execute_input": "2023-08-13T13:44:28.664596Z",
     "iopub.status.busy": "2023-08-13T13:44:28.664161Z",
     "iopub.status.idle": "2023-08-13T13:44:30.157499Z",
     "shell.execute_reply": "2023-08-13T13:44:30.156196Z"
    },
    "id": "5f-Fyovb-5Q7",
    "papermill": {
     "duration": 1.503698,
     "end_time": "2023-08-13T13:44:30.160692",
     "exception": false,
     "start_time": "2023-08-13T13:44:28.656994",
     "status": "completed"
    },
    "tags": []
   },
   "outputs": [],
   "source": [
    "res = requests.post(url,\n",
    "                   data = {\n",
    "                       'api_key': 'TEST',\n",
    "                       'recognizer': 'auto',\n",
    "                       'ref_no': 'oct_python_123'\n",
    "                   },\n",
    "                   files = {\n",
    "                       'file': open(image,'rb')\n",
    "                   })\n",
    "\n",
    "\n",
    "with open(\"response22.json\",\"w\") as f:\n",
    "    json.dump(json.loads(res.text), f)"
   ]
  },
  {
   "cell_type": "markdown",
   "id": "ae24664a",
   "metadata": {
    "id": "bFxx3Ec4ExiF",
    "papermill": {
     "duration": 0.005651,
     "end_time": "2023-08-13T13:44:30.172388",
     "exception": false,
     "start_time": "2023-08-13T13:44:30.166737",
     "status": "completed"
    },
    "tags": []
   },
   "source": [
    "## Load the JSON data from the response file and print the keys of the top-level dictionary."
   ]
  },
  {
   "cell_type": "code",
   "execution_count": 5,
   "id": "67a3b070",
   "metadata": {
    "execution": {
     "iopub.execute_input": "2023-08-13T13:44:30.186795Z",
     "iopub.status.busy": "2023-08-13T13:44:30.186316Z",
     "iopub.status.idle": "2023-08-13T13:44:30.194228Z",
     "shell.execute_reply": "2023-08-13T13:44:30.192764Z"
    },
    "id": "PP1cdDP7-_jP",
    "outputId": "51f9e66f-eb9e-4ae9-b0a7-5816b7b913be",
    "papermill": {
     "duration": 0.018321,
     "end_time": "2023-08-13T13:44:30.196830",
     "exception": false,
     "start_time": "2023-08-13T13:44:30.178509",
     "status": "completed"
    },
    "tags": []
   },
   "outputs": [
    {
     "name": "stdout",
     "output_type": "stream",
     "text": [
      "dict_keys(['ocr_type', 'request_id', 'ref_no', 'file_name', 'request_received_on', 'success', 'image_width', 'image_height', 'image_rotation', 'recognition_completed_on', 'receipts'])\n"
     ]
    }
   ],
   "source": [
    "with open(\"response22.json\",\"r\") as f:\n",
    "    data = json.load(f)\n",
    "\n",
    "print(data.keys())"
   ]
  },
  {
   "cell_type": "markdown",
   "id": "dcacde70",
   "metadata": {
    "id": "h9CTjozQE1e4",
    "papermill": {
     "duration": 0.005346,
     "end_time": "2023-08-13T13:44:30.208164",
     "exception": false,
     "start_time": "2023-08-13T13:44:30.202818",
     "status": "completed"
    },
    "tags": []
   },
   "source": [
    "## Load the JSON data again and print the keys of the dictionary inside the 'receipts' list."
   ]
  },
  {
   "cell_type": "code",
   "execution_count": 6,
   "id": "7926621f",
   "metadata": {
    "execution": {
     "iopub.execute_input": "2023-08-13T13:44:30.221172Z",
     "iopub.status.busy": "2023-08-13T13:44:30.220682Z",
     "iopub.status.idle": "2023-08-13T13:44:30.229093Z",
     "shell.execute_reply": "2023-08-13T13:44:30.227352Z"
    },
    "id": "si7myFH6_MPk",
    "outputId": "1f7a238f-6238-4dd7-a60e-c2b5703af978",
    "papermill": {
     "duration": 0.017765,
     "end_time": "2023-08-13T13:44:30.231413",
     "exception": false,
     "start_time": "2023-08-13T13:44:30.213648",
     "status": "completed"
    },
    "tags": []
   },
   "outputs": [
    {
     "name": "stdout",
     "output_type": "stream",
     "text": [
      "dict_keys(['merchant_name', 'merchant_address', 'merchant_phone', 'merchant_website', 'merchant_tax_reg_no', 'merchant_company_reg_no', 'region', 'mall', 'country', 'receipt_no', 'date', 'time', 'items', 'currency', 'total', 'subtotal', 'tax', 'service_charge', 'tip', 'payment_method', 'payment_details', 'credit_card_type', 'credit_card_number', 'ocr_text', 'ocr_confidence', 'width', 'height', 'avg_char_width', 'avg_line_height', 'conf_amount', 'source_locations'])\n"
     ]
    }
   ],
   "source": [
    "with open(\"response22.json\",\"r\") as f:\n",
    "    data = json.load(f)\n",
    "\n",
    "print(data['receipts'][0].keys())"
   ]
  },
  {
   "cell_type": "markdown",
   "id": "fce6f697",
   "metadata": {
    "id": "HvNLRi3SE6XT",
    "papermill": {
     "duration": 0.00535,
     "end_time": "2023-08-13T13:44:30.243755",
     "exception": false,
     "start_time": "2023-08-13T13:44:30.238405",
     "status": "completed"
    },
    "tags": []
   },
   "source": [
    "## Begin processing the invoice data by iterating over each invoice.\n",
    "## Extract and print basic invoice information like invoice number, invoice date, GST number, vendor name, etc.\n",
    "## Continue processing the invoice data by extracting vendor address, delivery address, buyer name, buyer address, item details, total invoice amount, and total tax amount."
   ]
  },
  {
   "cell_type": "code",
   "execution_count": 7,
   "id": "e2ac8dde",
   "metadata": {
    "execution": {
     "iopub.execute_input": "2023-08-13T13:44:30.257127Z",
     "iopub.status.busy": "2023-08-13T13:44:30.256599Z",
     "iopub.status.idle": "2023-08-13T13:44:30.270160Z",
     "shell.execute_reply": "2023-08-13T13:44:30.268552Z"
    },
    "id": "OCA7IvIo_XA5",
    "outputId": "ba8cd260-1b3c-419d-f456-8240e5c0cbd6",
    "papermill": {
     "duration": 0.02335,
     "end_time": "2023-08-13T13:44:30.272589",
     "exception": false,
     "start_time": "2023-08-13T13:44:30.249239",
     "status": "completed"
    },
    "tags": []
   },
   "outputs": [
    {
     "name": "stdout",
     "output_type": "stream",
     "text": [
      "Invoice Number: OT/964\n",
      "Invoice Date: 2019-08-19\n",
      "GST Number: 27AAACO2635C1ZV\n",
      "Vendor Name: toole pvt. ltd.\n",
      "Vendor Address: REGD. OFFICE & WORKS: E-16 & E-28, M.I.D.C. Industrial Area, Ambad, Nashik-422 010. Telefax:(0253) 2384829,2307370. OKAY\n",
      "Delivery Address: REGD. OFFICE & WORKS: E-16 & E-28, M.I.D.C. Industrial Area, Ambad, Nashik-422 010. Telefax:(0253) 2384829,2307370. OKAY\n",
      "Buyer Name: \n",
      "Buyer Address: \n",
      "Item Details: [{'amount': 166428.0, 'category': None, 'description': '35316134-01SHAFT (ECS)8538207.00', 'flags': '', 'qty': 804.0, 'remarks': None, 'tags': None, 'unitPrice': None}, {'amount': 29200.0, 'category': None, 'description': '353-16137-01LEVER (ECS)8538200.00', 'flags': '', 'qty': 146.0, 'remarks': None, 'tags': None, 'unitPrice': None}, {'amount': 82800.0, 'category': None, 'description': '37304160-01CONNECTING ROD-373041608538300.00276:', 'flags': '', 'qty': 0, 'remarks': None, 'tags': None, 'unitPrice': None}, {'amount': 84000.0, 'category': None, 'description': '35316055-01CONNECTING ROD-35316055!8538350.00', 'flags': '', 'qty': 240.0, 'remarks': None, 'tags': None, 'unitPrice': None}, {'amount': 12567.0, 'category': None, 'description': '37316034-01MERGED LEVER.853859.00', 'flags': '', 'qty': 213.0, 'remarks': None, 'tags': None, 'unitPrice': None}]\n",
      "Total Invoice Amount: 374995.0\n",
      "Total Tax Amount: 33749.55\n",
      "\n",
      "\n"
     ]
    }
   ],
   "source": [
    "# Assuming data contains the loaded JSON data\n",
    "invoices = data['receipts']  # Assuming that 'receipts' contains a list of invoices\n",
    "\n",
    "for invoice in invoices:\n",
    "    invoice_number = invoice['receipt_no']\n",
    "    invoice_date = invoice['date']\n",
    "    gst_number = invoice['merchant_tax_reg_no']\n",
    "    vendor_name = invoice['merchant_name']\n",
    "\n",
    "    # Extracting the merchant address assuming it contains vendor's address\n",
    "    vendor_address = invoice['merchant_address']\n",
    "\n",
    "    # Extracting the delivery address (Assumption: present under 'merchant_address')\n",
    "    delivery_address = invoice['merchant_address']  # Update this based on actual data\n",
    "\n",
    "    # Extracting the buyer name (Assumption: present under 'receipts' dictionary)\n",
    "    buyer_name = invoice.get('buyer_name', '')  # Default to empty string if not present\n",
    "\n",
    "    # Extracting the buyer address (Assumption: present under 'receipts' dictionary)\n",
    "    buyer_address = invoice.get('buyer_address', '')  # Default to empty string if not present\n",
    "\n",
    "    item_details = invoice['items']\n",
    "    total_invoice_amount = invoice['total']\n",
    "    total_tax_amount = invoice['tax']\n",
    "\n",
    "    # Assuming PO number is not directly present in the JSON\n",
    "    # You need to implement a method to extract it based on your data structure\n",
    "\n",
    "    # Print or process the extracted information\n",
    "    print(\"Invoice Number:\", invoice_number)\n",
    "    print(\"Invoice Date:\", invoice_date)\n",
    "    print(\"GST Number:\", gst_number)\n",
    "    print(\"Vendor Name:\", vendor_name)\n",
    "    print(\"Vendor Address:\", vendor_address)\n",
    "    print(\"Delivery Address:\", delivery_address)\n",
    "    print(\"Buyer Name:\", buyer_name)\n",
    "    print(\"Buyer Address:\", buyer_address)\n",
    "    print(\"Item Details:\", item_details)\n",
    "    print(\"Total Invoice Amount:\", total_invoice_amount)\n",
    "    print(\"Total Tax Amount:\", total_tax_amount)\n",
    "    # Print or process the extracted PO number\n",
    "    # ...\n",
    "    print(\"\\n\")"
   ]
  },
  {
   "cell_type": "markdown",
   "id": "28a1442b",
   "metadata": {
    "id": "PGbKOeDmFQyo",
    "papermill": {
     "duration": 0.005759,
     "end_time": "2023-08-13T13:44:30.284166",
     "exception": false,
     "start_time": "2023-08-13T13:44:30.278407",
     "status": "completed"
    },
    "tags": []
   },
   "source": [
    "## Extract the PO number from the OCR text using string manipulation based on the \"Po No:\" line.\n",
    "Print the extracted PO number or \"PO Number: Not Found\" if no PO number is available"
   ]
  },
  {
   "cell_type": "code",
   "execution_count": 8,
   "id": "b2330779",
   "metadata": {
    "execution": {
     "iopub.execute_input": "2023-08-13T13:44:30.298014Z",
     "iopub.status.busy": "2023-08-13T13:44:30.297567Z",
     "iopub.status.idle": "2023-08-13T13:44:30.305637Z",
     "shell.execute_reply": "2023-08-13T13:44:30.304190Z"
    },
    "id": "AiZTns16_ci6",
    "outputId": "56d1fcee-13d4-4c2d-d172-c8efe8070fbf",
    "papermill": {
     "duration": 0.01804,
     "end_time": "2023-08-13T13:44:30.308133",
     "exception": false,
     "start_time": "2023-08-13T13:44:30.290093",
     "status": "completed"
    },
    "tags": []
   },
   "outputs": [
    {
     "name": "stdout",
     "output_type": "stream",
     "text": [
      "PO Number: CN1809651              Date: 16/04/2019\n",
      "\n",
      "\n"
     ]
    }
   ],
   "source": [
    "po_number = None\n",
    "for line in invoice['ocr_text'].split('\\n'):\n",
    "    if \"Po No:\" in line:\n",
    "        po_number = line.split(\"Po No:\")[1].strip()\n",
    "        break\n",
    "\n",
    "# Print or process the extracted PO number\n",
    "if po_number:\n",
    "    print(\"PO Number:\", po_number)\n",
    "else:\n",
    "    print(\"PO Number: Not Found\")\n",
    "\n",
    "print(\"\\n\")"
   ]
  },
  {
   "cell_type": "markdown",
   "id": "fd3f0e02",
   "metadata": {
    "papermill": {
     "duration": 0.005555,
     "end_time": "2023-08-13T13:44:30.319507",
     "exception": false,
     "start_time": "2023-08-13T13:44:30.313952",
     "status": "completed"
    },
    "tags": []
   },
   "source": [
    "## Summary of the above code\n",
    "The provided code demonstrates the process of extracting structured information from unstructured text using Optical Character Recognition (OCR) on receipt images. The code interacts with an OCR API to analyze receipt images, extracting relevant details such as invoice numbers, dates, GST numbers, vendor information, item details, and total amounts. It processes the extracted data and prints it in a formatted manner.\n",
    "\n",
    "The code begins by importing required libraries and sending an image to the OCR API for analysis. It loads the resulting JSON response containing OCR results, including merchant and receipt information. The extracted data includes merchant details, receipt numbers, dates, item descriptions, amounts, and tax details.\n",
    "\n",
    "The code iterates through the extracted receipts, extracting and printing relevant information like invoice number, date, GST number, vendor details, delivery and buyer addresses, item details, total invoice amount, and total tax amount. Additionally, the code extracts the Purchase Order (PO) number if present in the OCR text and prints it.\n",
    "\n",
    "The code demonstrates the challenges of extracting structured data from unstructured text and highlights the importance of approaches beyond rule-based methods, like OCR and machine learning, to efficiently handle diverse document formats and complexities.\n"
   ]
  }
 ],
 "metadata": {
  "kernelspec": {
   "display_name": "Python 3",
   "language": "python",
   "name": "python3"
  },
  "language_info": {
   "codemirror_mode": {
    "name": "ipython",
    "version": 3
   },
   "file_extension": ".py",
   "mimetype": "text/x-python",
   "name": "python",
   "nbconvert_exporter": "python",
   "pygments_lexer": "ipython3",
   "version": "3.10.12"
  },
  "papermill": {
   "default_parameters": {},
   "duration": 15.291741,
   "end_time": "2023-08-13T13:44:31.550695",
   "environment_variables": {},
   "exception": null,
   "input_path": "__notebook__.ipynb",
   "output_path": "__notebook__.ipynb",
   "parameters": {},
   "start_time": "2023-08-13T13:44:16.258954",
   "version": "2.4.0"
  }
 },
 "nbformat": 4,
 "nbformat_minor": 5
}
